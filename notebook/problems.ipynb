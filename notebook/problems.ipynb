{
    "cells": [
        {
            "cell_type": "markdown",
            "id": "ac622319",
            "metadata": {},
            "source": [
                "# Descriptive statistics problems"
            ]
        },
        {
            "cell_type": "markdown",
            "id": "5e0ab0d5",
            "metadata": {},
            "source": [
                "### Exercise 1\n",
                "\n",
                "We will use NumPy to obtain information to describe statistically.\n",
                "\n",
                "- Generate an array of 100 elements following a normal distribution.\n",
                "- Generate an array of 100 elements following a chi-square distribution with 3 degrees of freedom.\n",
                "- Calculate the main metrics and statistical measures that best describe the two vectors."
            ]
        },
        {
            "cell_type": "code",
            "execution_count": 14,
            "id": "34720ab6",
            "metadata": {},
            "outputs": [
                {
                    "name": "stdout",
                    "output_type": "stream",
                    "text": [
                        "Descriptive Statistics: NORMAL ARRAY\n",
                        "Mean: 10.032653916761616\n",
                        "Standard Deviation: 0.9502916752539341\n",
                        "Minimum Value: 7.768078471247995\n",
                        "Maximum Value: 12.707244658411113\n",
                        "25th, 50th, and 75th Percentiles: [ 9.3536176   9.91597153 10.51529528]\n"
                    ]
                }
            ],
            "source": [
                "# TODO\n",
                "import statistics as stats\n",
                "import numpy as np\n",
                "#ARRAY OF 100 ELEMENTS WITH A NORMAL DISTRIBUTION\n",
                "normal_array = np.random.normal(loc = 10, scale = 1 , size = 100)\n",
                "#print(arr_norm)\n",
                "\n",
                "#ARRAY OF 100 ELEMNTS WITH A CHI-SQUARE DISTRIBUTION\n",
                "df = 3 #the degrees\n",
                "chi_square_array = np.random.chisquare(df, 100)\n",
                "#print(chi_square_array)\n",
                "\n",
                "#Calculate the main metrics and statistical measures that best describe the two vectors\n",
                "\n",
                "#NORMAL\n",
                "mean = np.mean(normal_array)\n",
                "std_dev = np.std(normal_array)\n",
                "min_val = np.min(normal_array)\n",
                "max_val = np.max(normal_array)\n",
                "quartiles = np.percentile(normal_array, [25, 50, 75])\n",
                "\n",
                "#CHI_SQUARE\n",
                "\n",
                "\n",
                "\n",
                "\n",
                "# Print the descriptive statistics\n",
                "print(\"Descriptive Statistics: NORMAL ARRAY\")\n",
                "print(f\"Mean: {mean}\")\n",
                "print(f\"Standard Deviation: {std_dev}\")\n",
                "print(f\"Minimum Value: {min_val}\")\n",
                "print(f\"Maximum Value: {max_val}\")\n",
                "print(f\"25th, 50th, and 75th Percentiles: {quartiles}\")\n",
                "\n",
                "\n",
                "\n"
            ]
        },
        {
            "cell_type": "markdown",
            "id": "46c70c3d",
            "metadata": {},
            "source": [
                "### Exercise 2\n",
                "\n",
                "Write a Python program to calculate the standard deviation of the following data:\n",
                "\n",
                "```py\n",
                "data = [4, 2, 5, 8, 6]\n",
                "```"
            ]
        },
        {
            "cell_type": "code",
            "execution_count": 2,
            "id": "d590308e",
            "metadata": {},
            "outputs": [],
            "source": [
                "# TODO"
            ]
        }
    ],
    "metadata": {
        "interpreter": {
            "hash": "9248718ffe6ce6938b217e69dbcc175ea21f4c6b28a317e96c05334edae734bb"
        },
        "kernelspec": {
            "display_name": "Python 3.9.12 ('ML-BOOTCAMP')",
            "language": "python",
            "name": "python3"
        },
        "language_info": {
            "codemirror_mode": {
                "name": "ipython",
                "version": 3
            },
            "file_extension": ".py",
            "mimetype": "text/x-python",
            "name": "python",
            "nbconvert_exporter": "python",
            "pygments_lexer": "ipython3",
            "version": "3.10.11"
        }
    },
    "nbformat": 4,
    "nbformat_minor": 5
}
