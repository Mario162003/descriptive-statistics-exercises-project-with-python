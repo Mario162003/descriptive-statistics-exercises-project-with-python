{
    "cells": [
        {
            "cell_type": "markdown",
            "id": "ac622319",
            "metadata": {},
            "source": [
                "# Descriptive statistics problems"
            ]
        },
        {
            "cell_type": "markdown",
            "id": "5e0ab0d5",
            "metadata": {},
            "source": [
                "### Exercise 1\n",
                "\n",
                "We will use NumPy to obtain information to describe statistically.\n",
                "\n",
                "- Generate an array of 100 elements following a normal distribution.\n",
                "- Generate an array of 100 elements following a chi-square distribution with 3 degrees of freedom.\n",
                "- Calculate the main metrics and statistical measures that best describe the two vectors."
            ]
        },
        {
            "cell_type": "code",
            "execution_count": 17,
            "id": "34720ab6",
            "metadata": {},
            "outputs": [
                {
                    "name": "stdout",
                    "output_type": "stream",
                    "text": [
                        "Descriptive Statistics:NORMAL\n",
                        "Mean: 9.858602463424939\n",
                        "Standard Deviation: 1.0542267477908367\n",
                        "Minimum Value: 6.8875994549655\n",
                        "Maximum Value: 11.811916300129134\n",
                        "25th, 50th, and 75th Percentiles: [ 9.33230994 10.02873279 10.64245758]\n",
                        "\n",
                        "Descriptive Statistics: CHI_SQUARE\n",
                        "Mean: 3.2460270940027716\n",
                        "Standard Deviation: 2.4172110872457244\n",
                        "Minimum Value: 0.03885125444514698\n",
                        "Maximum Value: 12.098996993811292\n",
                        "25th, 50th, and 75th Percentiles: [1.56179057 2.73768005 4.15136612]\n"
                    ]
                }
            ],
            "source": [
                "# TODO\n",
                "import statistics as stats\n",
                "import numpy as np\n",
                "#ARRAY OF 100 ELEMENTS WITH A NORMAL DISTRIBUTION\n",
                "normal_array = np.random.normal(loc = 10, scale = 1 , size = 100)\n",
                "#print(arr_norm)\n",
                "\n",
                "#ARRAY OF 100 ELEMNTS WITH A CHI-SQUARE DISTRIBUTION\n",
                "df = 3 #the degrees\n",
                "chi_square_array = np.random.chisquare(df, 100)\n",
                "#print(chi_square_array)\n",
                "\n",
                "#Calculate the main metrics and statistical measures that best describe the two vectors\n",
                "\n",
                "#NORMAL\n",
                "mean1 = np.mean(normal_array)\n",
                "std_dev1 = np.std(normal_array)\n",
                "min_val_1 = np.min(normal_array)\n",
                "max_val_1 = np.max(normal_array)\n",
                "quartiles_1 = np.percentile(normal_array, [25, 50, 75])\n",
                "\n",
                "#CHI_SQUARE\n",
                "mean2 = np.mean(chi_square_array)\n",
                "std_dev_2 = np.std(chi_square_array)\n",
                "min_val_2 = np.min(chi_square_array)\n",
                "max_val_2 = np.max(chi_square_array)\n",
                "quartiles_2 = np.percentile(chi_square_array, [25, 50, 75])\n",
                "\n",
                "print(\"Descriptive Statistics:NORMAL\")\n",
                "print(f\"Mean: {mean1}\")\n",
                "print(f\"Standard Deviation: {std_dev1}\")\n",
                "print(f\"Minimum Value: {min_val_1}\")\n",
                "print(f\"Maximum Value: {max_val_1}\")\n",
                "print(f\"25th, 50th, and 75th Percentiles: {quartiles_1}\")\n",
                "print()\n",
                "print(\"Descriptive Statistics: CHI_SQUARE\")\n",
                "print(f\"Mean: {mean2}\")\n",
                "print(f\"Standard Deviation: {std_dev_2}\")\n",
                "print(f\"Minimum Value: {min_val_2}\")\n",
                "print(f\"Maximum Value: {max_val_2}\")\n",
                "print(f\"25th, 50th, and 75th Percentiles: {quartiles_2}\")\n",
                "\n",
                "\n",
                "\n"
            ]
        },
        {
            "cell_type": "markdown",
            "id": "46c70c3d",
            "metadata": {},
            "source": [
                "### Exercise 2\n",
                "\n",
                "Write a Python program to calculate the standard deviation of the following data:\n",
                "\n",
                "```py\n",
                "data = [4, 2, 5, 8, 6]\n",
                "```"
            ]
        },
        {
            "cell_type": "code",
            "execution_count": 20,
            "id": "d590308e",
            "metadata": {},
            "outputs": [
                {
                    "name": "stdout",
                    "output_type": "stream",
                    "text": [
                        "2.23606797749979\n"
                    ]
                }
            ],
            "source": [
                "# TODO\n",
                "\n",
                "data = [4, 2, 5, 8, 6]\n",
                "sd = stats.stdev(data)\n",
                "\n",
                "print(sd)"
            ]
        }
    ],
    "metadata": {
        "interpreter": {
            "hash": "9248718ffe6ce6938b217e69dbcc175ea21f4c6b28a317e96c05334edae734bb"
        },
        "kernelspec": {
            "display_name": "Python 3.9.12 ('ML-BOOTCAMP')",
            "language": "python",
            "name": "python3"
        },
        "language_info": {
            "codemirror_mode": {
                "name": "ipython",
                "version": 3
            },
            "file_extension": ".py",
            "mimetype": "text/x-python",
            "name": "python",
            "nbconvert_exporter": "python",
            "pygments_lexer": "ipython3",
            "version": "3.10.11"
        }
    },
    "nbformat": 4,
    "nbformat_minor": 5
}
